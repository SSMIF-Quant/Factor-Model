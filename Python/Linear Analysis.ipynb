{
 "cells": [
  {
   "cell_type": "code",
   "execution_count": 1,
   "metadata": {},
   "outputs": [],
   "source": [
    "import numpy as np\n",
    "import pandas as pd\n",
    "import statsmodels.formula.api as sm\n",
    "import matplotlib.pyplot as plt"
   ]
  },
  {
   "cell_type": "code",
   "execution_count": 2,
   "metadata": {},
   "outputs": [],
   "source": [
    "#We need to import the empty sectors list here\n",
    "empty_sectors_list=[]"
   ]
  },
  {
   "cell_type": "code",
   "execution_count": 3,
   "metadata": {},
   "outputs": [],
   "source": [
    "#Setup linear models based on sector list names\n",
    "linear_models = empty_sectors_list"
   ]
  },
  {
   "cell_type": "code",
   "execution_count": null,
   "metadata": {},
   "outputs": [],
   "source": [
    "#Essentially create all column names in right spot\n",
    "for i in range(0, len(sectorPrices)):\n",
    "    #Get sector Data, training set only\n",
    "    sectDat= sectorPrices[i][Training_Set]\n",
    "    #Create a string of price and PE, this will be used for Lm prediction hence tilde\n",
    "    form = (list(sectDat)[1] + \" ~ \" + list(sectDat)[3]).astype(str)\n",
    "    #Continue to build the string, skipping anything in statement 1\n",
    "    for j in list(sectDat)[3:len(sectDat)]:\n",
    "        if (j == \"EPSGrowthRate\" || j == \"EPS.Growth.Rate\" || j == \"PutCallOpenInterest\" || j == \"InstitutionOwnership\"):\n",
    "            continue()\n",
    "        else:\n",
    "            form = form + \" + \" + j.astype(str)\n",
    "    #https://stackoverflow.com/questions/29036179/what-is-the-python-equivalent-to-r-predict-function-for-linear-models\n",
    "    #Now build the linear model with the string we built, this will probably change when I get code to actually\n",
    "    #test this because of how python works\n",
    "    linear_models[[i]] = ols(y = form, x = sectDat)\n",
    "    \n",
    "    \n",
    "#Rename the columns with their sector names\n",
    "list(linear_models) = sectorNames\n",
    "    "
   ]
  },
  {
   "cell_type": "code",
   "execution_count": null,
   "metadata": {},
   "outputs": [],
   "source": [
    "pValMatrix = pd.dataframe()"
   ]
  },
  {
   "cell_type": "code",
   "execution_count": 5,
   "metadata": {},
   "outputs": [],
   "source": [
    "#SetRowNames"
   ]
  },
  {
   "cell_type": "code",
   "execution_count": 6,
   "metadata": {},
   "outputs": [],
   "source": [
    "#SetColumnNames"
   ]
  },
  {
   "cell_type": "code",
   "execution_count": null,
   "metadata": {},
   "outputs": [],
   "source": [
    "for i in range(1, len(linear_models)):\n",
    "    sTest <- linear_models[[i]].describe()\n",
    "    sTest <- sTest.transpose()\n",
    "    for (metric in rownames(pValMatrix)):\n",
    "        pValMatrix[metric, i] <- sTest[[\"coefficients\"]][2:len(list(sTest[[\"coefficients\"]])),4][metric]"
   ]
  },
  {
   "cell_type": "code",
   "execution_count": null,
   "metadata": {},
   "outputs": [],
   "source": [
    "plotHeatMap = function(df) {\n",
    "  tmp <- cbind(rownames(df),df)\n",
    "  tmp <- melt(tmp)\n",
    "  colnames(tmp) <- c(\"Factors\", \"Sectors\", \"Value\")\n",
    "  pValGGPlot <<- 'ggplot(tmp, aes(x = Sectors, y = Factors, fill = Value)) + geom_tile() +\n",
    "    scale_fill_gradient2(low = \"white\", high = \"blue\", midpoint = 0, space = \"Lab\") + \n",
    "    labs(title = \"Cold Plot\", subtitle = \"The bluer the area, the worse the P-Value\",caption = \"Rounded to 4 Decimal Places\") +\n",
    "    geom_text(aes(label = round(Value,digits = 4)))'\n",
    "  eval(parse(text = pValGGPlot))\n",
    "}"
   ]
  },
  {
   "cell_type": "code",
   "execution_count": null,
   "metadata": {},
   "outputs": [],
   "source": [
    "# png(filename = \"Cold Plot.png\",width = 862,height = 550,units = \"px\")\n",
    "# plotHeatMap(pValMatrix)\n",
    "# dev.off()\n",
    "plotHeatMap(pValMatrix)"
   ]
  },
  {
   "cell_type": "code",
   "execution_count": null,
   "metadata": {},
   "outputs": [],
   "source": [
    "write_csv(pValMatrix,file = \"output/P Value Matrix.csv\")"
   ]
  },
  {
   "cell_type": "code",
   "execution_count": null,
   "metadata": {},
   "outputs": [],
   "source": [
    "coeffMatrix <- as.data.frame(matrix(nrow = nrow(pValMatrix),ncol = length(sectorNames)))\n",
    "rownames(coeffMatrix) <- rownames(pValMatrix)\n",
    "colnames(coeffMatrix) <- sectorNames"
   ]
  },
  {
   "cell_type": "code",
   "execution_count": null,
   "metadata": {},
   "outputs": [],
   "source": [
    "for (i in 1:length(linear_models)) {\n",
    "  sTest <- summary(linear_models[[i]])\n",
    "  for(metric in rownames(coeffMatrix)) {\n",
    "    coeffMatrix[metric, i] <- sTest[[\"coefficients\"]][2:nrow(sTest[[\"coefficients\"]]),1][metric]\n",
    "  }\n",
    "}"
   ]
  },
  {
   "cell_type": "code",
   "execution_count": null,
   "metadata": {},
   "outputs": [],
   "source": [
    "plotHeatMap2 = function(df) {\n",
    "  tmp <- cbind(rownames(df),df)\n",
    "  tmp <- melt(tmp)\n",
    "  colnames(tmp) <- c(\"Factors\", \"Sectors\", \"Value\")\n",
    "  coeffHeatGGPlot <<- 'ggplot(tmp, aes(x = Sectors, y = Factors, fill = Value)) + geom_tile() +\n",
    "    scale_fill_gradient2(low = \"blue\", high = \"red\", mid = \"white\", midpoint = 0, space = \"Lab\") +\n",
    "    labs(title = \"Coeff Heatmap, Linear\",caption = \"Rounded to 2 Decimal Places\") +\n",
    "    geom_text(aes(label = round(Value,digits = 2)))'\n",
    "  eval(parse(text = coeffHeatGGPlot))\n",
    "}"
   ]
  },
  {
   "cell_type": "code",
   "execution_count": null,
   "metadata": {},
   "outputs": [],
   "source": [
    "plotHeatMap2(coeffMatrix)"
   ]
  },
  {
   "cell_type": "code",
   "execution_count": null,
   "metadata": {},
   "outputs": [],
   "source": [
    "plotRSquared = function(lst) {\n",
    "  tmp <- sapply(lst, function(x) summary(x)$r.squared)\n",
    "  tmp <- cbind(names(tmp),as.data.frame(tmp))\n",
    "  colnames(tmp) <- c(\"Sectors\", \"RSquared\")\n",
    "  rSquareGGPlot <<- 'ggplot(tmp, aes(x=Sectors,y=RSquared,ymax=1)) + geom_bar(stat = \"identity\") + geom_text(aes(label = round(RSquared,digits = 4)),nudge_y=.02) + labs(title = \"R-Squareds, Linear Model (New)\")'\n",
    "  eval(parse(text = rSquareGGPlot))\n",
    "}\n",
    "plotRSquared(linear_models)"
   ]
  },
  {
   "cell_type": "code",
   "execution_count": null,
   "metadata": {},
   "outputs": [],
   "source": [
    "predictedValuesLinear <- emptySectorList"
   ]
  },
  {
   "cell_type": "code",
   "execution_count": null,
   "metadata": {},
   "outputs": [],
   "source": [
    "predictedValuesLinearMat <- as.data.frame(matrix(nrow = nrow(sectorPrices[[1]][[\"Testing Set\"]]), ncol = length(linear_models)))"
   ]
  },
  {
   "cell_type": "code",
   "execution_count": null,
   "metadata": {},
   "outputs": [],
   "source": [
    "for (i in 1:length(linear_models)) {\n",
    "  preds <- predict.lm(linear_models[[i]],newdata = sectorPrices[[i]][[\"Testing Set\"]][,-1])\n",
    "  predictedValuesLinear[[i]] <- preds\n",
    "  predictedValuesLinearMat[,i] <- preds\n",
    "}"
   ]
  },
  {
   "cell_type": "code",
   "execution_count": null,
   "metadata": {},
   "outputs": [],
   "source": [
    "names(predictedValuesLinear) <- sectorNames\n",
    "colnames(predictedValuesLinearMat) <- names(predictedValuesLinear)"
   ]
  },
  {
   "cell_type": "code",
   "execution_count": null,
   "metadata": {},
   "outputs": [],
   "source": [
    "accSetLinear <- NULL\n",
    "for (i in 1:ncol(predictedValuesLinearMat)) {\n",
    "  testSet <- predictedValuesLinearMat[,i]\n",
    "  realSet <- sectorPrices[[i]][[\"Testing Set\"]][,1]\n",
    "  resultSet <- NULL\n",
    "  for (j in 1:length(testSet)) {\n",
    "    if ((testSet[j] >= (realSet[j]*(1-GLOBAL_ACCURACY))) && (testSet[j] <= (realSet[j]*(1+GLOBAL_ACCURACY)))) {\n",
    "      resultSet[j] <- 1\n",
    "    } else {\n",
    "      resultSet[j] <- 0\n",
    "    }\n",
    "  }\n",
    "  accSetLinear <- c(accSetLinear,(sum(resultSet)/length(resultSet)))\n",
    "  print(paste(sectorNames[i],\" Accuracy: \",accSetLinear[i],sep = ''))\n",
    "}\n",
    "names(accSetLinear) <- sectorNames"
   ]
  },
  {
   "cell_type": "code",
   "execution_count": null,
   "metadata": {},
   "outputs": [],
   "source": [
    "plotAccLinear <- function() {\n",
    "  tmp <- accSetLinear\n",
    "  tmp <- pd.concat(names(tmp),as.data_frame(tmp))\n",
    "  colnames(tmp) <- c(\"Sectors\", \"Accuracy\")\n",
    "  rSquareGGPlot <<- 'ggplot(tmp, aes(x=Sectors,y=Accuracy,ymax=1)) + geom_bar(stat = \"identity\") + geom_text(aes(label = round(Accuracy,digits = 4)),nudge_y=.02) + labs(title = \"Accuracy, Linear Model (New)\")'\n",
    "  eval(parse(text = rSquareGGPlot))\n",
    "}\n",
    "plotAccLinear()"
   ]
  },
  {
   "cell_type": "code",
   "execution_count": null,
   "metadata": {},
   "outputs": [],
   "source": [
    "size <- size + 1\n",
    "if (size == 1) {\n",
    "  accuracyMatrix[1,] <- accSetLinear\n",
    "  rownames(accuracyMatrix) <- \"Linear Regression\"\n",
    "} else {\n",
    "  accuracyMatrix <- rbind(accuracyMatrix,accSetLinear)\n",
    "  rownames(accuracyMatrix)[size] <- \"Linear Regression\"\n",
    "}"
   ]
  },
  {
   "cell_type": "code",
   "execution_count": 7,
   "metadata": {},
   "outputs": [
    {
     "name": "stdout",
     "output_type": "stream",
     "text": [
      "Linear Analysis: CURRENTLY BROKEN\n"
     ]
    }
   ],
   "source": [
    "print(\"Linear Analysis: CURRENTLY BROKEN\")"
   ]
  }
 ],
 "metadata": {
  "kernelspec": {
   "display_name": "Python 3",
   "language": "python",
   "name": "python3"
  },
  "language_info": {
   "codemirror_mode": {
    "name": "ipython",
    "version": 3
   },
   "file_extension": ".py",
   "mimetype": "text/x-python",
   "name": "python",
   "nbconvert_exporter": "python",
   "pygments_lexer": "ipython3",
   "version": "3.8.1"
  }
 },
 "nbformat": 4,
 "nbformat_minor": 4
}
